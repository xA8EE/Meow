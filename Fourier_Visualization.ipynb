# Import required modules
import numpy as np
import matplotlib.pyplot as plt
from matplotlib.animation import FuncAnimation
from matplotlib.patches import Circle
import ipywidgets as widgets
from IPython.display import display

# --- 1. Define preset waveform functions ---
def square_wave(t):
    """Square wave: f(t)=1 for t>=0, f(t)=-1 for t<0 (periodic on [-pi, pi])."""
    return np.where(t < 0, -1, 1)

def sawtooth_wave(t):
    """Sawtooth wave: linear ramp from -1 at t=-pi to 1 at t=pi."""
    return t / np.pi

def triangle_wave(t):
    """Triangle wave: peaks at 0 and goes to -1 at t=±pi."""
    return 1 - 2 * np.abs(t) / np.pi

def custom_wave(t, expr):
    """
    Custom wave.
    The expression should be a valid Python expression in terms of `t` and can use numpy (np).
    Example: "np.sin(t) + 0.5*np.sin(3*t)"
    """
    try:
        # Use eval in a controlled environment.
        return eval(expr, {"np": np, "t": t})
    except Exception as e:
        print("Error in custom function evaluation:", e)
        return np.zeros_like(t)

# --- 2. Compute Fourier coefficients ---
def compute_fourier_coefficients(f, N, t_grid):
    """
    Compute the Fourier coefficients for a given function f on the interval [-pi, pi].
    The Fourier series is assumed to be:
    
        f(t) ≈ a0/2 + Σₙ (aₙ cos(n t) + bₙ sin(n t))
    
    Parameters:
      f      : function handle f(t)
      N      : number of harmonics (terms) to compute
      t_grid : 1D array of t values over [-pi, pi] used for numerical integration
      
    Returns:
      a0, a, b  where a is an array of length N and b is an array of length N.
    """
    # Compute DC term a0
    a0 = (1/np.pi) * np.trapz(f(t_grid), t_grid)
    a_coeffs = []
    b_coeffs = []
    for n in range(1, N+1):
        a_n = (1/np.pi) * np.trapz(f(t_grid) * np.cos(n*t_grid), t_grid)
        b_n = (1/np.pi) * np.trapz(f(t_grid) * np.sin(n*t_grid), t_grid)
        a_coeffs.append(a_n)
        b_coeffs.append(b_n)
    return a0, np.array(a_coeffs), np.array(b_coeffs)

# --- 3. Compute epicycle positions ---
def get_epicycle_positions(t_val, a0, a_coeffs, b_coeffs):
    """
    For a given time t_val, compute the positions of the tip of each epicycle (Fourier term).
    We use the amplitude-phase form:
      
      aₙ cos(n t) + bₙ sin(n t) = Aₙ cos(n t - φₙ)
      
    where Aₙ = sqrt(aₙ² + bₙ²) and φₙ = arctan2(bₙ, aₙ).
    
    The epicycles are drawn as a sequence of vectors:
       pos0 = (a0/2, 0)  (the DC offset)
       posₙ = posₙ₋₁ + Aₙ exp[i*(n*t_val - φₙ)]
       
    Returns:
       positions: a list of complex numbers representing the tip of each vector.
    """
    # Start with the DC term (treated as a real offset)
    pos = complex(a0/2, 0)
    positions = [pos]
    N = len(a_coeffs)
    for n in range(1, N+1):
        # amplitude and phase for the n-th term
        A_n = np.hypot(a_coeffs[n-1], b_coeffs[n-1])
        phi_n = np.arctan2(b_coeffs[n-1], a_coeffs[n-1])
        # Add the vector contribution (rotate with frequency n)
        pos += A_n * np.exp(1j*(n*t_val - phi_n))
        positions.append(pos)
    return positions

# --- 4. Create the interactive visualization function ---
def update_visualization(waveform, custom_expr, num_terms, speed):
    """
    Update (or create) the Fourier series visualization using the chosen parameters.
    
    Parameters:
      waveform   : string, one of "Square", "Sawtooth", "Triangle", or "Custom"
      custom_expr: string expression used if waveform=="Custom"
      num_terms  : number of Fourier series terms (harmonics) to include
      speed      : animation speed factor
    """
    # --- Select the waveform function ---
    if waveform == "Square":
        f = square_wave
    elif waveform == "Sawtooth":
        f = sawtooth_wave
    elif waveform == "Triangle":
        f = triangle_wave
    elif waveform == "Custom":
        f = lambda t: custom_wave(t, custom_expr)
    else:
        f = square_wave  # default
    
    # --- Compute Fourier coefficients ---
    t_integration = np.linspace(-np.pi, np.pi, 2000)  # integration grid for better accuracy
    a0, a_coeffs, b_coeffs = compute_fourier_coefficients(f, num_terms, t_integration)
    
    # --- Set up the figure and axes ---
    fig, (ax_epi, ax_wave) = plt.subplots(1, 2, figsize=(12, 6))
    
    # Left: epicycles
    ax_epi.set_aspect('equal')
    # Adjust the limits (you may change these values if your waveform has larger amplitude)
    ax_epi.set_xlim(-2.5, 2.5)
    ax_epi.set_ylim(-2.5, 2.5)
    ax_epi.set_title("Epicycles (Fourier Components)")
    ax_epi.axis('off')
    
    # Right: Fourier series reconstruction
    ax_wave.set_xlim(0, 2*np.pi)
    ax_wave.set_ylim(-2.5, 2.5)
    ax_wave.set_title("Fourier Series Approximation")
    ax_wave.set_xlabel("t")
    ax_wave.set_ylabel("f(t)")
    
    # --- Prepare drawing elements ---
    # Line that connects the centers of the epicycles (the vector chain)
    vector_line, = ax_epi.plot([], [], 'r-', lw=2)
    
    # The trace of the final tip drawn on the right panel:
    trace_line, = ax_wave.plot([], [], 'b-', lw=2)
    
    # A vertical line on the wave plot to indicate the current t value:
    time_indicator = ax_wave.axvline(x=0, color='gray', ls='--')
    
    # Store the trace points (we’ll refresh these every cycle)
    trace_t, trace_val = [], []
    last_t = 0  # to detect a new cycle
    
    # --- Animation function ---
    # We animate t from 0 to 2π (one full period)
    t_vals = np.linspace(0, 2*np.pi, 300)
    num_frames = len(t_vals)
    
    def init():
        vector_line.set_data([], [])
        trace_line.set_data([], [])
        time_indicator.set_xdata(0)
        return vector_line, trace_line, time_indicator

    def animate(frame):
        nonlocal trace_t, trace_val, last_t
        # Compute current time (speed factor multiplies the progression)
        t_current = t_vals[frame % num_frames] * speed
        
        # If we’ve looped back near 0, clear the trace (to start a new cycle)
        if t_current < last_t:
            trace_t, trace_val = [], []
        last_t = t_current
        
        # Compute the positions for the epicycles at time t_current
        positions = get_epicycle_positions(t_current, a0, a_coeffs, b_coeffs)
        
        # --- Update epicycle drawing ---
        # First, remove previous circle patches:
        for patch in ax_epi.patches[:]:
            patch.remove()
        # Draw the circles (each corresponding to a Fourier term)
        for i in range(len(positions)-1):
            center = positions[i]
            next_point = positions[i+1]
            radius = np.abs(next_point - center)
            circ = Circle((center.real, center.imag), radius, fill=False, ec='gray', ls='dotted')
            ax_epi.add_patch(circ)
        # Draw the connecting vector line
        x_coords = [p.real for p in positions]
        y_coords = [p.imag for p in positions]
        vector_line.set_data(x_coords, y_coords)
        
        # --- Update the wave approximation trace ---
        # Here we take the real part of the final tip as the approximated f(t)
        trace_t.append(t_current)
        trace_val.append(positions[-1].real)
        trace_line.set_data(trace_t, trace_val)
        time_indicator.set_xdata(t_current)
        
        return vector_line, trace_line, time_indicator

    # Create the animation (blitting is set to False since we update patches dynamically)
    ani = FuncAnimation(fig, animate, frames=num_frames, init_func=init,
                        interval=50, blit=False, repeat=True)
    plt.close(fig)  # Prevent duplicate display in some environments
    display(fig)

# --- 5. Build the interactive UI using ipywidgets ---
waveform_dropdown = widgets.Dropdown(
    options=["Square", "Sawtooth", "Triangle", "Custom"],
    value="Square",
    description="Waveform:"
)

custom_expr_text = widgets.Text(
    value="np.sin(t) + 0.5*np.sin(3*t)",
    description="Custom f(t):",
    placeholder="Enter a valid expression in t (using np)"
)

terms_slider = widgets.IntSlider(
    value=5,
    min=1,
    max=50,
    step=1,
    description="Fourier Terms:"
)

speed_slider = widgets.FloatSlider(
    value=1.0,
    min=0.1,
    max=5.0,
    step=0.1,
    description="Animation Speed:"
)

# Arrange the widgets vertically
ui = widgets.VBox([waveform_dropdown, custom_expr_text, terms_slider, speed_slider])

# Link the widget values to the update_visualization function
out = widgets.interactive_output(update_visualization,
                                 {'waveform': waveform_dropdown,
                                  'custom_expr': custom_expr_text,
                                  'num_terms': terms_slider,
                                  'speed': speed_slider})

display(ui, out)
